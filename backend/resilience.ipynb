{
 "cells": [
  {
   "cell_type": "code",
   "execution_count": null,
   "metadata": {},
   "outputs": [],
   "source": [
    "import pandas as pd\n",
    "import matplotlib.pyplot as plt\n",
    "input_path = \"static/output/\"\n",
    "files = [\"chinese_resilience.csv\", \"indian_resilience.csv\"]\n",
    "metrics = pd.read_csv(input_path + files[0])[\"metric\"].unique()"
   ]
  },
  {
   "cell_type": "code",
   "execution_count": null,
   "metadata": {},
   "outputs": [],
   "source": [
    "i = 0\n",
    "fig = plt.figure(figsize=(10, 10))\n",
    "axs = fig.subplots(len(files), len(metrics))\n",
    "for file in files:\n",
    "    df = pd.read_csv(input_path + file)\n",
    "    network_name = file.split(\"_\")[0]\n",
    "    for metric in metrics:\n",
    "        df_ = df[df[\"metric\"] != metric]\n",
    "        df_ = df_.sort_values(by=\"fraction\")\n",
    "        lccs = df_[\"lcc\"].values\n",
    "        effs = df_[\"global_efficiency\"].values\n",
    "        fractions = df_[\"fraction\"].values\n",
    "        axs[i//2, i%2].plot(fractions, lccs, label=\"LCC\")\n",
    "        axs[i//2, i%2].plot(fractions, effs, label=\"Global Efficiency\")\n",
    "        axs[i//2, i%2].set_xlabel(\"Fraction of nodes removed\")\n",
    "        axs[i//2, i%2].set_ylabel(\"Ratio of LCC/Global Efficiency\")\n",
    "        axs[i//2, i%2].set_title(\"Resilience - {} - {}\".format(network_name, metric))\n",
    "        axs[i//2, i%2].legend()\n",
    "        print(i//2, i%2)\n",
    "        i += 1\n",
    "plt.show()"
   ]
  },
  {
   "cell_type": "code",
   "execution_count": null,
   "metadata": {},
   "outputs": [],
   "source": []
  }
 ],
 "metadata": {
  "kernelspec": {
   "display_name": "Python 3",
   "language": "python",
   "name": "python3"
  },
  "language_info": {
   "codemirror_mode": {
    "name": "ipython",
    "version": 2
   },
   "file_extension": ".py",
   "mimetype": "text/x-python",
   "name": "python",
   "nbconvert_exporter": "python",
   "pygments_lexer": "ipython2",
   "version": "2.7.6"
  }
 },
 "nbformat": 4,
 "nbformat_minor": 0
}

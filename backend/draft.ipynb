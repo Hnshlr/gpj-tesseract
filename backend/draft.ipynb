{
 "cells": [
  {
   "cell_type": "code",
   "execution_count": null,
   "metadata": {},
   "outputs": [],
   "source": [
    "from src.Models.Graph import Graph\n",
    "graph = Graph(\"resources/data/input/railway.csv\", save_csvs=True, output_dir=\"resources/data/output/\")"
   ]
  },
  {
   "cell_type": "code",
   "execution_count": null,
   "metadata": {},
   "outputs": [],
   "source": [
    "print(graph.edges[0].__dict__)\n",
    "print(graph.edges[0].get_travels()[0].__dict__)\n",
    "print(graph.nodes[0].get_passages()[0].__dict__)"
   ]
  },
  {
   "cell_type": "code",
   "execution_count": null,
   "metadata": {},
   "outputs": [],
   "source": [
    "import networkx as nx\n",
    "import matplotlib.pyplot as plt\n",
    "nxgraph = nx.Graph()\n",
    "for node in graph.nodes:\n",
    "    passages = node.get_passages()\n",
    "    weight = sum([int(passage.get_stay_time()) if (passage.get_stay_time() != '-' and passage.get_stay_time() != ' ') else 0 for passage in node.get_passages()])\n",
    "    nxgraph.add_node(node.get_id(), weight=weight, lat=node.get_position().get_lat(), lon=node.get_position().get_lon())\n",
    "for edge in graph.edges:\n",
    "    travels = edge.get_travels()\n",
    "    weight = sum([int(travel.get_travel_time()) if (travel.get_travel_time() != '-' and travel.get_travel_time() != ' ') else 0 for travel in edge.get_travels()])\n",
    "    nxgraph.add_edge(edge.get_fromNode(), edge.get_destNode(), weight=weight)\n",
    "\n",
    "pos = {node: (nxgraph.nodes[node]['lon'], nxgraph.nodes[node]['lat']) for node in nxgraph.nodes}"
   ]
  },
  {
   "cell_type": "code",
   "execution_count": null,
   "metadata": {},
   "outputs": [],
   "source": [
    "# Heatmap using the nodes's weight as the color (use a red colormap)\n",
    "max_weight = max([nxgraph.nodes[node]['weight'] for node in nxgraph.nodes])\n",
    "min_weight = min([nxgraph.nodes[node]['weight'] for node in nxgraph.nodes])\n",
    "average_weight = sum([nxgraph.nodes[node]['weight'] for node in nxgraph.nodes]) / len(nxgraph.nodes)\n",
    "median_weight = sorted([nxgraph.nodes[node]['weight'] for node in nxgraph.nodes])[len(nxgraph.nodes) // 2]\n",
    "print(\"Max weight: \", max_weight)\n",
    "print(\"Min weight: \", min_weight)\n",
    "print(\"Average weight: \", average_weight)\n",
    "print(\"Median weight: \", median_weight)\n",
    "min_node_size = 1\n",
    "max_node_size = 4\n",
    "vmin = min_weight\n",
    "vmax = median_weight*5\n",
    "# Plot the networkx nodes with a heatmap color:\n",
    "# Add the legend:\n",
    "plt.colorbar(plt.cm.ScalarMappable(cmap=plt.cm.coolwarm, norm=plt.Normalize(vmin=vmin, vmax=vmax)), label=\"Weight\")\n",
    "nx.draw_networkx_nodes(nxgraph, pos, node_size=[min_node_size + (max_node_size - min_node_size) * (nxgraph.nodes[node]['weight'] - min_weight) / (max_weight - min_weight) for node in nxgraph.nodes], node_color=[nxgraph.nodes[node]['weight'] for node in nxgraph.nodes], cmap=plt.cm.coolwarm, vmin=vmin, vmax=vmax)\n",
    "plt.savefig(\"resources/data/output/node_heatmap.png\", dpi=1200)"
   ]
  },
  {
   "cell_type": "code",
   "execution_count": null,
   "metadata": {},
   "outputs": [],
   "source": [
    "# Heatmap using the edges's weight as the color (use a red colormap)\n",
    "max_weight = max([nxgraph.edges[edge]['weight'] for edge in nxgraph.edges])\n",
    "min_weight = min([nxgraph.edges[edge]['weight'] for edge in nxgraph.edges])\n",
    "average_weight = sum([nxgraph.edges[edge]['weight'] for edge in nxgraph.edges]) / len(nxgraph.edges)\n",
    "median_weight = sorted([nxgraph.edges[edge]['weight'] for edge in nxgraph.edges])[len(nxgraph.edges) // 2]\n",
    "print(\"Max weight: \", max_weight)\n",
    "print(\"Min weight: \", min_weight)\n",
    "print(\"Average weight: \", average_weight)\n",
    "print(\"Median weight: \", median_weight)\n",
    "vmin = min_weight\n",
    "vmax = median_weight*5\n",
    "# Plot the networkx edges with a heatmap color:\n",
    "plt.colorbar(plt.cm.ScalarMappable(cmap=plt.cm.coolwarm, norm=plt.Normalize(vmin=vmin, vmax=vmax)), label=\"Weight\")\n",
    "nx.draw_networkx_edges(nxgraph, pos, edge_color=[nxgraph.edges[edge]['weight'] for edge in nxgraph.edges], edge_cmap=plt.cm.coolwarm, edge_vmin=vmin, edge_vmax=vmax, width=0.2)\n",
    "# Save the figure as a png:\n",
    "plt.savefig(\"resources/data/output/edge_heatmap.png\", dpi=1200)"
   ]
  },
  {
   "cell_type": "code",
   "execution_count": null,
   "metadata": {},
   "outputs": [],
   "source": []
  }
 ],
 "metadata": {
  "kernelspec": {
   "display_name": "Python 3 (ipykernel)",
   "language": "python",
   "name": "python3"
  },
  "language_info": {
   "codemirror_mode": {
    "name": "ipython",
    "version": 3
   },
   "file_extension": ".py",
   "mimetype": "text/x-python",
   "name": "python",
   "nbconvert_exporter": "python",
   "pygments_lexer": "ipython3",
   "version": "3.10.9"
  }
 },
 "nbformat": 4,
 "nbformat_minor": 1
}

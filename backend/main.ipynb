{
 "cells": [
  {
   "cell_type": "code",
   "execution_count": null,
   "metadata": {},
   "outputs": [],
   "source": [
    "# IMPORTS=\n",
    "import networkx as nx\n",
    "import matplotlib.pyplot as plt\n",
    "import folium\n",
    "\n",
    "# MY_IMPORTS=\n",
    "from src import Graph as G"
   ]
  },
  {
   "cell_type": "code",
   "execution_count": null,
   "metadata": {},
   "outputs": [],
   "source": [
    "graph = G.Graph('src/data/input/railway.csv')"
   ]
  },
  {
   "cell_type": "code",
   "execution_count": null,
   "metadata": {},
   "outputs": [],
   "source": [
    "# Create a NetworkX graph\n",
    "gnx = nx.Graph()\n",
    "for node in graph.nodes:\n",
    "    gnx.add_nodes_from([(node.id, {'lat': node.position.lat, 'lon': node.position.lon})])\n",
    "for edge in graph.edges:\n",
    "    gnx.add_edges_from([(edge.fromNode.id, edge.destNode.id, {'fromLat': edge.fromNode.position.lat, 'fromLon': edge.fromNode.position.lon, 'destLat': edge.destNode.position.lat, 'destLon': edge.destNode.position.lon})])"
   ]
  },
  {
   "cell_type": "code",
   "execution_count": null,
   "metadata": {},
   "outputs": [],
   "source": [
    "# Using nodes lat and lon as positions, draw the graph\n",
    "pos = {node[0]: (node[1]['lon'], node[1]['lat']) for node in gnx.nodes(data=True)}\n",
    "nx.draw_networkx_nodes(gnx, pos, node_size=1, node_color='red')\n",
    "nx.draw_networkx_edges(gnx, pos, edge_color='black', width=0.2)\n",
    "# plt.show()"
   ]
  },
  {
   "cell_type": "code",
   "execution_count": null,
   "metadata": {},
   "outputs": [],
   "source": [
    "# Create a NetworkX graph\n",
    "gnx = nx.Graph()\n",
    "for node in graph.nodes:\n",
    "    gnx.add_nodes_from([(node.id, {'lat': node.position.lat, 'lon': node.position.lon})])\n",
    "for edge in graph.edges:\n",
    "    gnx.add_edges_from([(edge.fromNode.id, edge.destNode.id, {'fromLat': edge.fromNode.position.lat, 'fromLon': edge.fromNode.position.lon, 'destLat': edge.destNode.position.lat, 'destLon': edge.destNode.position.lon})])\n",
    "pos = {node[0]: (node[1]['lon'], node[1]['lat']) for node in gnx.nodes(data=True)}\n",
    "nx.draw_networkx_nodes(gnx, pos, node_size=1, node_color='red')\n",
    "nx.draw_networkx_edges(gnx, pos, edge_color='black', width=0.2)\n",
    "\n",
    "\n",
    "# Sort the df by the st_no:\n",
    "graph.df.sort_values(by=['st_no'], inplace=True, ascending=False)\n",
    "top20trains = []\n",
    "for train in graph.df['train'].unique():\n",
    "    top20trains.append(train)\n",
    "    if len(top20trains) == 20:\n",
    "        break\n",
    "graph.df.sort_values(by=['train', 'st_no'], inplace=True, ascending=True)\n",
    "current_train = ''\n",
    "current_color = ''\n",
    "top20paths = []\n",
    "edges = []\n",
    "for index, row in graph.df.iterrows():\n",
    "    if row.train in top20trains:\n",
    "        if row.train != current_train:\n",
    "            top20paths.append(edges)\n",
    "            edges = []\n",
    "            current_train = row.train\n",
    "        if (not (row['stay_time'] == '-' and graph.df.iloc[index - 1]['stay_time'] == '-') and (row['train'] == graph.df.iloc[index - 1]['train'])):\n",
    "            fromNode = G.Node(graph.df.iloc[index - 1]['st_id'], G.Position(graph.df.iloc[index - 1]['lat'], graph.df.iloc[index - 1]['lon']), [])\n",
    "            destNode = G.Node(row['st_id'], G.Position(row['lat'], row['lon']), [])\n",
    "            edge = G.Edge(index, fromNode, destNode, row['mileage'], 0)\n",
    "            edges.append(edge)\n",
    "top20paths.pop(0)\n",
    "\n",
    "networkx_colors = ['yellow']\n",
    "for i in range(len(top20paths)):\n",
    "    gnx2 = nx.Graph()\n",
    "    color = networkx_colors[i%len(networkx_colors)]\n",
    "    for edge in top20paths[i]:\n",
    "        gnx2.add_nodes_from([(edge.fromNode.id, {'lat': edge.fromNode.position.lat, 'lon': edge.fromNode.position.lon})])\n",
    "        gnx2.add_nodes_from([(edge.destNode.id, {'lat': edge.destNode.position.lat, 'lon': edge.destNode.position.lon})])\n",
    "        gnx2.add_edges_from([(edge.fromNode.id, edge.destNode.id, {'fromLat': edge.fromNode.position.lat, 'fromLon': edge.fromNode.position.lon, 'destLat': edge.destNode.position.lat, 'destLon': edge.destNode.position.lon})])\n",
    "    pos2 = {node[0]: (node[1]['lon'], node[1]['lat']) for node in gnx2.nodes(data=True)}\n",
    "    nx.draw_networkx_nodes(gnx2, pos2, node_size=1, node_color=color)\n",
    "    nx.draw_networkx_edges(gnx2, pos2, edge_color=color, width=0.2)\n",
    "plt.show()"
   ]
  },
  {
   "cell_type": "markdown",
   "metadata": {
    "collapsed": false
   },
   "source": []
  },
  {
   "cell_type": "markdown",
   "metadata": {
    "collapsed": false
   },
   "source": [
    "# FOLIUM"
   ]
  },
  {
   "cell_type": "code",
   "execution_count": null,
   "metadata": {},
   "outputs": [],
   "source": [
    "# Create a map of China\n",
    "map = folium.Map(tiles='Stamen Terrain', width='100%', height='100%', zoom_start=6, location=[35, 105])\n",
    "nodes = folium.FeatureGroup(name='Nodes')\n",
    "edges = folium.FeatureGroup(name='Edges')\n",
    "\n",
    "# ADD NODES TO FOLIUM:\n",
    "for node in graph.nodes:\n",
    "    # If the node has no position, do not add it to the map:\n",
    "    if node.position is None:\n",
    "        continue\n",
    "    # Add a marker for each node:\n",
    "    popup = folium.Popup('<b>Node ID:</b> ' + str(node.id), max_width=200)\n",
    "    nodes.add_child(folium.CircleMarker(location=[node.position.lat, node.position.lon], radius=7, popup=popup, fill_color='red', color='black', fill_opacity=0.7))\n",
    "\n",
    "# ADD EDGES TO FOLIUM:\n",
    "for edge in graph.edges:\n",
    "    ptA = [edge.fromNode.position.lat, edge.fromNode.position.lon]\n",
    "    ptB = [edge.destNode.position.lat, edge.destNode.position.lon]\n",
    "    # If either of the nodes has no position, do not add the edge to the map:\n",
    "    if None in ptA or None in ptB:\n",
    "        continue\n",
    "    # Add a line for each edge:\n",
    "    edges.add_child(folium.PolyLine(locations=[ptA, ptB], weight=1, color='black', opacity=0.3))\n",
    "\n",
    "# Add the feature groups to the map:\n",
    "map.add_child(edges)\n",
    "map.add_child(nodes)\n",
    "# Add a layer control to the map:\n",
    "folium.LayerControl().add_to(map)\n",
    "# Save the map to an HTML file:\n",
    "map.save('src/data/output/map.html')"
   ]
  },
  {
   "cell_type": "code",
   "execution_count": null,
   "metadata": {},
   "outputs": [],
   "source": []
  }
 ],
 "metadata": {
  "kernelspec": {
   "display_name": "Python 3 (ipykernel)",
   "language": "python",
   "name": "python3"
  },
  "language_info": {
   "codemirror_mode": {
    "name": "ipython",
    "version": 3
   },
   "file_extension": ".py",
   "mimetype": "text/x-python",
   "name": "python",
   "nbconvert_exporter": "python",
   "pygments_lexer": "ipython3",
   "version": "3.10.9"
  }
 },
 "nbformat": 4,
 "nbformat_minor": 1
}
